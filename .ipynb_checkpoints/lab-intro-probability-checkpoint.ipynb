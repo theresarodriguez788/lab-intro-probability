{
 "cells": [
  {
   "cell_type": "markdown",
   "metadata": {},
   "source": [
    "# Lab | Intro to Probability"
   ]
  },
  {
   "cell_type": "markdown",
   "metadata": {},
   "source": [
    "**Objective**\n",
    "\n",
    "Welcome to this Intro to Probability lab, where we explore decision-making scenarios through the lens of probability and strategic analysis. In the business world, making informed decisions is crucial, especially when faced with uncertainties. This lab focuses on scenarios where probabilistic outcomes play a significant role in shaping strategies and outcomes. Students will engage in exercises that require assessing and choosing optimal paths based on data-driven insights. The goal is to enhance your skills by applying probability concepts to solve real-world problems."
   ]
  },
  {
   "cell_type": "markdown",
   "metadata": {},
   "source": [
    "**Challenge 1**"
   ]
  },
  {
   "cell_type": "markdown",
   "metadata": {},
   "source": [
    "#### Ironhack Airlines \n",
    "\n",
    "Often Airlines sell more tickets than they have seats available, this is called overbooking. Consider the following:\n",
    "- A plane has 450 seats. \n",
    "- Based on historical data we conclude that each individual passenger has a 3% chance of missing it's flight. \n",
    "\n",
    "If the Ironhack Airlines routinely sells 460 tickets, what is the chance that they have a seats for all passenger?"
   ]
  },
  {
   "cell_type": "code",
   "execution_count": 5,
   "metadata": {},
   "outputs": [
    {
     "name": "stdout",
     "output_type": "stream",
     "text": [
      "The probability that Ironhack Airlines has seats for all passengers is: 0.0\n"
     ]
    }
   ],
   "source": [
    "from scipy.special import comb\n",
    "\n",
    "# Function to calculate the probability of having seats for all passengers\n",
    "def probability_seats_available(n, k, p):\n",
    "    return comb(n, k) * (p ** k) * ((1 - p) ** (n - k))\n",
    "\n",
    "# Given data\n",
    "total_seats = 450\n",
    "total_tickets_sold = 460\n",
    "probability_missing_flight = 0.03\n",
    "\n",
    "# Calculate the number of passengers who make their flight\n",
    "passengers_making_flight = total_tickets_sold - (total_tickets_sold * probability_missing_flight)\n",
    "\n",
    "# Calculate the probability of having seats for all passengers\n",
    "probability_all_seats_available = probability_seats_available(total_tickets_sold, passengers_making_flight, probability_missing_flight)\n",
    "\n",
    "print(\"The probability that Ironhack Airlines has seats for all passengers is:\", probability_all_seats_available)\n"
   ]
  },
  {
   "cell_type": "markdown",
   "metadata": {},
   "source": [
    "**Challenge 2**"
   ]
  },
  {
   "cell_type": "markdown",
   "metadata": {},
   "source": [
    "#### Ironhack Call Center "
   ]
  },
  {
   "cell_type": "markdown",
   "metadata": {},
   "source": [
    "Suppose a customer service representative at a call center is handling customer complaints. Consider the following:\n",
    "- The probability of successfully resolving a customer complaint on the first attempt is 0.3. \n",
    "\n",
    "\n",
    "What is the probability that the representative needs to make at least three attempts before successfully resolving a customer complaint?"
   ]
  },
  {
   "cell_type": "code",
   "execution_count": 6,
   "metadata": {},
   "outputs": [
    {
     "name": "stdout",
     "output_type": "stream",
     "text": [
      "The probability that the representative needs to make at least three attempts before successfully resolving a customer complaint is: 0.49\n"
     ]
    }
   ],
   "source": [
    "import scipy.stats as st\n",
    "\n",
    "# Given data\n",
    "p = 0.3  # Probability of successfully resolving a customer complaint on the first attempt\n",
    "\n",
    "# Probability of resolving the complaint in the first two attempts\n",
    "p_resolve_in_first_two_attempts = st.geom.cdf(2, p)\n",
    "\n",
    "# Probability of needing at least three attempts\n",
    "p_at_least_three_attempts = 1 - p_resolve_in_first_two_attempts\n",
    "\n",
    "print(\"The probability that the representative needs to make at least three attempts before successfully resolving a customer complaint is:\", p_at_least_three_attempts)\n"
   ]
  },
  {
   "cell_type": "markdown",
   "metadata": {},
   "source": [
    "**Challenge 3**"
   ]
  },
  {
   "cell_type": "markdown",
   "metadata": {},
   "source": [
    "#### Ironhack Website"
   ]
  },
  {
   "cell_type": "markdown",
   "metadata": {},
   "source": [
    "Consider a scenario related to Ironhack website traffic. Where:\n",
    "- our website takes on average 500 visits per hour.\n",
    "- the website's server is designed to handle up to 550 vists per hour.\n",
    "\n",
    "\n",
    "What is the probability of the website server being overwhelmed?"
   ]
  },
  {
   "cell_type": "code",
   "execution_count": 7,
   "metadata": {},
   "outputs": [
    {
     "name": "stdout",
     "output_type": "stream",
     "text": [
      "The probability of the website server being overwhelmed is: 0.01289822084039205\n"
     ]
    }
   ],
   "source": [
    "import scipy.stats as st\n",
    "\n",
    "# Given data\n",
    "lambda_visits_per_hour = 500\n",
    "max_visits_per_hour = 550\n",
    "\n",
    "# Calculate the probability of having more than 550 visits in an hour\n",
    "probability_overwhelmed = 1 - st.poisson.cdf(max_visits_per_hour, lambda_visits_per_hour)\n",
    "\n",
    "print(\"The probability of the website server being overwhelmed is:\", probability_overwhelmed)\n"
   ]
  },
  {
   "cell_type": "markdown",
   "metadata": {},
   "source": [
    "What is the probability of being overwhelmed at some point during a day? (consider 24hours)"
   ]
  },
  {
   "cell_type": "code",
   "execution_count": 9,
   "metadata": {},
   "outputs": [
    {
     "name": "stdout",
     "output_type": "stream",
     "text": [
      "The probability of the website server being overwhelmed at some point during a day is: 0.2677043869515715\n"
     ]
    }
   ],
   "source": [
    "# Given data\n",
    "lambda_visits_per_hour = 500\n",
    "max_visits_per_hour = 550\n",
    "\n",
    "# Probability of the server not being overwhelmed in a single hour\n",
    "probability_not_overwhelmed_per_hour = st.poisson.cdf(max_visits_per_hour, lambda_visits_per_hour)\n",
    "\n",
    "# Probability of the server not being overwhelmed in 24 hours\n",
    "probability_not_overwhelmed_per_day = probability_not_overwhelmed_per_hour ** 24\n",
    "\n",
    "# Probability of the server being overwhelmed at least once in 24 hours\n",
    "probability_overwhelmed_per_day = 1 - probability_not_overwhelmed_per_day\n",
    "\n",
    "print(\"The probability of the website server being overwhelmed at some point during a day is:\", probability_overwhelmed_per_day)\n"
   ]
  },
  {
   "cell_type": "markdown",
   "metadata": {},
   "source": [
    "**Challenge 4**"
   ]
  },
  {
   "cell_type": "markdown",
   "metadata": {},
   "source": [
    "#### Ironhack Helpdesk"
   ]
  },
  {
   "cell_type": "markdown",
   "metadata": {},
   "source": [
    "Consider a scenario related to the time between arrivals of customers at a service desk.\n",
    "\n",
    "On average, a customers arrives every 10minutes.\n",
    "\n",
    "What is the probability that the next customer will arrive within the next 5 minutes?"
   ]
  },
  {
   "cell_type": "code",
   "execution_count": 10,
   "metadata": {},
   "outputs": [
    {
     "name": "stdout",
     "output_type": "stream",
     "text": [
      "The probability that the next customer will arrive within the next 5 minutes is: 0.3934693402873666\n"
     ]
    }
   ],
   "source": [
    "# Given data\n",
    "mean_time_between_arrivals = 10  # minutes\n",
    "rate = 1 / mean_time_between_arrivals  # rate parameter\n",
    "\n",
    "# Time interval we are interested in\n",
    "time_interval = 5  # minutes\n",
    "\n",
    "# Probability that the next customer will arrive within the next 5 minutes\n",
    "probability_within_5_minutes = st.expon.cdf(time_interval, scale=1/rate)\n",
    "\n",
    "print(\"The probability that the next customer will arrive within the next 5 minutes is:\", probability_within_5_minutes)\n"
   ]
  },
  {
   "cell_type": "markdown",
   "metadata": {},
   "source": [
    "If there is no customer for 15minutes, employees can that a 5minutes break.\n",
    "\n",
    "What is the probability an employee taking a break?"
   ]
  },
  {
   "cell_type": "code",
   "execution_count": 11,
   "metadata": {},
   "outputs": [
    {
     "name": "stdout",
     "output_type": "stream",
     "text": [
      "The probability that an employee can take a break (no customer for 15 minutes) is: 0.22313016014842982\n"
     ]
    }
   ],
   "source": [
    "# Given data\n",
    "mean_time_between_arrivals = 10  # minutes\n",
    "rate = 1 / mean_time_between_arrivals  # rate parameter\n",
    "\n",
    "# Time interval we are interested in\n",
    "time_interval = 15  # minutes\n",
    "\n",
    "# Probability that no customer arrives in the next 15 minutes\n",
    "probability_no_arrival_15_minutes = st.expon.sf(time_interval, scale=1/rate)\n",
    "\n",
    "print(\"The probability that an employee can take a break (no customer for 15 minutes) is:\", probability_no_arrival_15_minutes)\n"
   ]
  },
  {
   "cell_type": "markdown",
   "metadata": {},
   "source": [
    "**Challenge 5**"
   ]
  },
  {
   "cell_type": "markdown",
   "metadata": {},
   "source": [
    "The weights of a certain species of birds follow a normal distribution with a mean weight of 150 grams and a standard deviation of 10 grams. \n",
    "\n",
    "- If we randomly select a bird, what is the probability that its weight is between 140 and 160 grams?"
   ]
  },
  {
   "cell_type": "code",
   "execution_count": 13,
   "metadata": {},
   "outputs": [
    {
     "name": "stdout",
     "output_type": "stream",
     "text": [
      "The probability that the weight of a randomly selected bird is between 140 and 160 grams is: 0.6826894921370859\n"
     ]
    }
   ],
   "source": [
    "import scipy.stats as st\n",
    "\n",
    "# Given data\n",
    "mean_weight = 150  # grams\n",
    "std_deviation = 10  # grams\n",
    "\n",
    "# Calculate the cumulative probability for the lower and upper bounds\n",
    "lower_bound = 140\n",
    "upper_bound = 160\n",
    "\n",
    "# Cumulative probability up to the lower and upper bounds\n",
    "prob_lower_bound = st.norm.cdf(lower_bound, mean_weight, std_deviation)\n",
    "prob_upper_bound = st.norm.cdf(upper_bound, mean_weight, std_deviation)\n",
    "\n",
    "# Probability that the weight is between 140 and 160 grams\n",
    "probability_between_bounds = prob_upper_bound - prob_lower_bound\n",
    "\n",
    "print(\"The probability that the weight of a randomly selected bird is between 140 and 160 grams is:\", probability_between_bounds)\n"
   ]
  },
  {
   "cell_type": "markdown",
   "metadata": {},
   "source": [
    "**Challenge 6**"
   ]
  },
  {
   "cell_type": "markdown",
   "metadata": {},
   "source": [
    "If the lifetime (in hours) of a certain electronic component follows an exponential distribution with a mean lifetime of 50 hours, what is the probability that the component fails within the first 30 hours?"
   ]
  },
  {
   "cell_type": "code",
   "execution_count": 14,
   "metadata": {},
   "outputs": [
    {
     "name": "stdout",
     "output_type": "stream",
     "text": [
      "The probability that the component fails within the first 30 hours is: 0.4511883639059736\n"
     ]
    }
   ],
   "source": [
    "import scipy.stats as st\n",
    "\n",
    "# Given data\n",
    "mean_lifetime = 50  # hours\n",
    "rate = 1 / mean_lifetime  # rate parameter (lambda)\n",
    "\n",
    "# Time interval we are interested in\n",
    "time_interval = 30  # hours\n",
    "\n",
    "# Probability that the component fails within the first 30 hours\n",
    "probability_fail_within_30_hours = st.expon.cdf(time_interval, scale=1/rate)\n",
    "\n",
    "print(\"The probability that the component fails within the first 30 hours is:\", probability_fail_within_30_hours)\n"
   ]
  }
 ],
 "metadata": {
  "kernelspec": {
   "display_name": "Python 3 (ipykernel)",
   "language": "python",
   "name": "python3"
  },
  "language_info": {
   "codemirror_mode": {
    "name": "ipython",
    "version": 3
   },
   "file_extension": ".py",
   "mimetype": "text/x-python",
   "name": "python",
   "nbconvert_exporter": "python",
   "pygments_lexer": "ipython3",
   "version": "3.11.7"
  }
 },
 "nbformat": 4,
 "nbformat_minor": 2
}
